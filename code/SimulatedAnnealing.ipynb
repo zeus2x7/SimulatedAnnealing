{
 "cells": [
  {
   "cell_type": "markdown",
   "id": "385c420b-9027-42f9-ac21-8a5d9cd83bc2",
   "metadata": {
    "tags": []
   },
   "source": [
    "# Simulated Annealing Implementation"
   ]
  },
  {
   "cell_type": "markdown",
   "id": "0851f92a-0bed-4bc4-9850-e8714879a610",
   "metadata": {
    "tags": []
   },
   "source": [
    "## Basic Implementation"
   ]
  },
  {
   "cell_type": "code",
   "execution_count": 1,
   "id": "3c3d172c-3fe4-4548-8c17-b8a4b4898d47",
   "metadata": {},
   "outputs": [],
   "source": [
    "import random"
   ]
  },
  {
   "cell_type": "code",
   "execution_count": 2,
   "id": "dedce4f3-30ef-45bc-a1e1-ff65a3ee3874",
   "metadata": {},
   "outputs": [],
   "source": [
    "import numpy as np"
   ]
  },
  {
   "cell_type": "code",
   "execution_count": 3,
   "id": "9ef72eab-60bf-4583-b196-299419014cef",
   "metadata": {},
   "outputs": [],
   "source": [
    "def f(x):\n",
    "    return (((x-0.3)*(x-0.3)*(x-0.3)) -(5*x+x*x-2))"
   ]
  },
  {
   "cell_type": "code",
   "execution_count": 4,
   "id": "2837a1f7-1460-4999-9b47-19a1519ea951",
   "metadata": {},
   "outputs": [],
   "source": [
    "class SimulatedAnnealing:\n",
    "    #solving the problem within the interval [min,max]\n",
    "    #while T is high: we accept \"bad\" moves also \n",
    "    #if T is low then we only accept good moves\n",
    "    def __init__(self , min_coordinate ,max_coordinate , min_temp ,max_temp ,tempreduction, cooling_rate =0.02 ):\n",
    "        self.min_coordinate = min_coordinate\n",
    "        self.max_coordinate = max_coordinate\n",
    "        self.min_temp = min_temp\n",
    "        self.max_temp = max_temp\n",
    "        self.cooling_rate = cooling_rate\n",
    "        self.tempreduction = tempreduction\n",
    "        self.actual_state =0  # it is the x coordinate of the actual state\n",
    "        self.next_state =0\n",
    "        self.best_state =0\n",
    "   \n",
    "            \n",
    "    def run(self):    \n",
    "        temp = self.max_temp\n",
    "        while temp >self.min_temp:\n",
    "            new_state = self.generate_next_state()\n",
    "            actual_energy = self.get_energy(self.actual_state)\n",
    "            new_energy =self.get_energy(new_state) \n",
    "            \n",
    "            if random.random() <self.accept_prob(actual_energy ,new_energy ,temp):\n",
    "                self.actual_state = new_state\n",
    "            if f(self.actual_state)>f(self.best_state):\n",
    "                self.best_state =self.actual_state\n",
    "           \n",
    "            temp = self.temp_decrement(temp)\n",
    "           # temp =temp  * (1-self.cooling_rate) #decrement the T temperature\n",
    "        \n",
    "        print('gloabal maximum = x=%s f(x)=%s ' % (self.best_state ,f(self.best_state)))\n",
    "     \n",
    "    \n",
    "    def temp_decrement(self ,temp):\n",
    "        if self.tempreduction ==\"geometric\":\n",
    "            return temp*(1-self.cooling_rate)\n",
    "        elif self.tempreduction == \"linear\":      \n",
    "            return temp - (1-self.cooling_rate)\n",
    "        elif self.tempreduction == \"slowDecrease\":       \n",
    "            return temp/(1+self.cooling_rate*temp)\n",
    "        else: \n",
    "            return self.tempreduction(temp)\n",
    "            \n",
    "        \n",
    "    \n",
    "    def generate_next_state(self): # generate random x coordinate within the given range [min,max]\n",
    "        return self.min_coordinate + (self.max_coordinate - self.min_coordinate) *random.random()\n",
    "    @staticmethod\n",
    "    def accept_prob(actual_energy,next_energy ,temp):\n",
    "        if next_energy>actual_energy:\n",
    "            return 1\n",
    "        \n",
    "        return np.exp((actual_energy -next_energy)/temp)\n",
    "    @staticmethod\n",
    "    def get_energy(x):\n",
    "        return f(x)\n",
    "   "
   ]
  },
  {
   "cell_type": "code",
   "execution_count": 5,
   "id": "156c1aab-23b8-4fb4-8c82-e33ccf829742",
   "metadata": {},
   "outputs": [
    {
     "name": "stdout",
     "output_type": "stream",
     "text": [
      "gloabal maximum = x=-0.7742382630607463 f(x)=4.032088528225472 \n"
     ]
    }
   ],
   "source": [
    "if __name__ == '__main__':\n",
    "    algorithm  =SimulatedAnnealing(-2,1, .1 ,100 ,\"slowDecrease\")\n",
    "    algorithm.run()"
   ]
  },
  {
   "cell_type": "markdown",
   "id": "6adde7f4-b082-4d4d-9d11-1e70b9e6daf8",
   "metadata": {},
   "source": [
    "## Travelling Salesman Problem using Simulated Annealing"
   ]
  },
  {
   "cell_type": "code",
   "execution_count": 6,
   "id": "a2697e0d-bcff-4baf-b0c3-b81e8230c491",
   "metadata": {},
   "outputs": [],
   "source": [
    "import random\n",
    "from random import shuffle\n",
    "import numpy as np\n",
    "from numpy.random import randint\n",
    "import matplotlib.pyplot as plt"
   ]
  },
  {
   "cell_type": "code",
   "execution_count": 7,
   "id": "fd062c32-04cb-4c4c-a415-d9d208ccc747",
   "metadata": {},
   "outputs": [],
   "source": [
    "class City:\n",
    "    def __init__(self):\n",
    "        self.x = 1000*random.random()\n",
    "        self.y = 1000*random.random()\n",
    "    def __repr__(self):\n",
    "        return '(%s,%s)' % (round(self.x,1) ,round(self.y,1))"
   ]
  },
  {
   "cell_type": "code",
   "execution_count": 8,
   "id": "295ca30c-828e-40e0-912b-3b374cee5d3d",
   "metadata": {},
   "outputs": [],
   "source": [
    "class SingleTour:\n",
    "    def __init__(self):\n",
    "        self.tour =[]\n",
    "    def set_tour(self,tour):\n",
    "        self.tour.extend(tour)\n",
    "    def swap(self,index1 ,index2):\n",
    "        self.tour[index1], self.tour[index2] = self.tour[index2], self.tour[index1]\n",
    "    def __repr__(self):\n",
    "        return ''.join(str(e) for e in self.tour)\n",
    "    \n",
    "    def generate_tour(self,n):\n",
    "        for _ in range(n):\n",
    "            self.tour.append(City())\n",
    "            \n",
    "        shuffle(self.tour)\n",
    "    \n",
    "    def get_tour_size(self):\n",
    "        return len(self.tour)\n",
    "    \n",
    "    def get_distance(self):\n",
    "        tour_distance = 0\n",
    "\n",
    "        for i in range(len(self.tour)):\n",
    "            tour_distance += self.distance(self.tour[i % len(self.tour)],\n",
    "                                           self.tour[(i + 1) % len(self.tour)])\n",
    "\n",
    "        return tour_distance\n",
    "    @staticmethod\n",
    "    def distance(city1, city2):\n",
    "\n",
    "        dist_x = abs(city1.x - city2.x)\n",
    "        dist_y = abs(city1.y - city2.y)\n",
    "\n",
    "        return np.sqrt(dist_x * dist_x + dist_y * dist_y)\n",
    "    "
   ]
  },
  {
   "cell_type": "code",
   "execution_count": 9,
   "id": "b6fbf3ab-51e9-4b63-b20f-df7902504c66",
   "metadata": {},
   "outputs": [],
   "source": [
    "class simulatedannealing:\n",
    "    def __init__(self, num_cities, min_temp, max_temp, cooling_rate=0.01):\n",
    "        self.num_cities = num_cities\n",
    "        self.min_temp = min_temp\n",
    "        self.max_temp = max_temp\n",
    "        self.cooling_rate = cooling_rate\n",
    "        self.actual_state = SingleTour()\n",
    "        self.next_state = None\n",
    "        self.best_state = None\n",
    "\n",
    "    def run(self):\n",
    "        self.actual_state.generate_tour(self.num_cities)\n",
    "        print('Initial (random.random) distance: %sm' % round(self.actual_state.get_distance(), 3))\n",
    "\n",
    "        self.best_state = self.actual_state\n",
    "        temp = self.max_temp\n",
    "\n",
    "        while temp > self.min_temp:\n",
    "            # generate the neighboring state\n",
    "            new_state = self.generate_random_state(self.actual_state)\n",
    "\n",
    "            # calculate the energies (distances)\n",
    "            actual_energy = self.actual_state.get_distance()\n",
    "            new_energy = new_state.get_distance()\n",
    "\n",
    "            if random.random() < self.accept_prob(actual_energy, new_energy, temp):\n",
    "                single_tour = SingleTour()\n",
    "                single_tour.set_tour(new_state.tour)\n",
    "                self.actual_state = single_tour\n",
    "\n",
    "            if self.actual_state.get_distance() < self.best_state.get_distance():\n",
    "                single_tour = SingleTour()\n",
    "                single_tour.set_tour(self.actual_state.tour)\n",
    "                self.best_state = single_tour\n",
    "\n",
    "            temp *= 1 - self.cooling_rate\n",
    "\n",
    "        print('Solution: %sm' % round(self.best_state.get_distance(), 3))\n",
    "    @staticmethod\n",
    "    def generate_random_state(actual_state):\n",
    "        new_state = SingleTour()\n",
    "        new_state.set_tour(actual_state.tour)\n",
    "        # we have to swap 2 cities at random\n",
    "        random_index1 = randint(0, new_state.get_tour_size())\n",
    "        random_index2 = randint(0, new_state.get_tour_size())\n",
    "\n",
    "        new_state.swap(random_index1, random_index2)\n",
    "\n",
    "        return new_state\n",
    "    def plot_solution(self):\n",
    "        xs = []\n",
    "        ys = []\n",
    "\n",
    "        self.best_state.tour.append(self.best_state.tour[0])\n",
    "\n",
    "        for city in self.best_state.tour:\n",
    "            xs.append(city.x)\n",
    "            ys.append(city.y)\n",
    "\n",
    "        # these are the cities (points)\n",
    "        plt.scatter(xs, ys)\n",
    "        # we connect the cities (and plot the shortest hamiltonian cycle)\n",
    "        plt.plot(xs, ys)\n",
    "        plt.show()\n",
    "\n",
    "    @staticmethod\n",
    "    def accept_prob(actual_energy, next_energy, temp):\n",
    "\n",
    "        if next_energy < actual_energy:\n",
    "            return 1\n",
    "\n",
    "        return np.exp((actual_energy - next_energy) / temp)"
   ]
  },
  {
   "cell_type": "code",
   "execution_count": 10,
   "id": "5f2d276e-1b80-47ca-b944-1c93fcd70678",
   "metadata": {},
   "outputs": [
    {
     "name": "stdout",
     "output_type": "stream",
     "text": [
      "Initial (random.random) distance: 24257.687m\n",
      "Solution: 9272.179m\n"
     ]
    },
    {
     "data": {
      "image/png": "[encoded data removed]",
      "text/plain": [
       "<Figure size 432x288 with 1 Axes>"
      ]
     },
     "metadata": {
      "needs_background": "light"
     },
     "output_type": "display_data"
    }
   ],
   "source": [
    "random.seed(10)\n",
    "if __name__ == '__main__':\n",
    "    algorithm = simulatedannealing(50, 1e-5, 10000000)\n",
    "    algorithm.run()\n",
    "    algorithm.plot_solution()"
   ]
  },
  {
   "cell_type": "code",
   "execution_count": null,
   "id": "bafb2807-150d-4246-afb3-a8f8b039c191",
   "metadata": {},
   "outputs": [],
   "source": []
  },
  {
   "cell_type": "code",
   "execution_count": null,
   "id": "572add1f-6927-45a3-8fb1-bfd6e7af42cf",
   "metadata": {},
   "outputs": [],
   "source": []
  },
  {
   "cell_type": "code",
   "execution_count": null,
   "id": "7fde9ffb-724d-4293-bdbb-d602a11794ad",
   "metadata": {},
   "outputs": [],
   "source": []
  }
 ],
 "metadata": {
  "kernelspec": {
   "display_name": "Python 3 (ipykernel)",
   "language": "python",
   "name": "python3"
  },
  "language_info": {
   "codemirror_mode": {
    "name": "ipython",
    "version": 3
   },
   "file_extension": ".py",
   "mimetype": "text/x-python",
   "name": "python",
   "nbconvert_exporter": "python",
   "pygments_lexer": "ipython3",
   "version": "3.9.7"
  }
 },
 "nbformat": 4,
 "nbformat_minor": 5
}
